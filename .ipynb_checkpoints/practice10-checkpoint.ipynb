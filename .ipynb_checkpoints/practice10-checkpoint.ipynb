{
 "cells": [
  {
   "cell_type": "markdown",
   "id": "70b8a1a3",
   "metadata": {},
   "source": [
    "## hw7"
   ]
  },
  {
   "cell_type": "code",
   "execution_count": null,
   "id": "a8abd0f1",
   "metadata": {},
   "outputs": [],
   "source": [
    "def sized_cacher(size):\n",
    "    def cacher(fn):\n",
    "        cache = {}\n",
    "\n",
    "        def wrapper(*args, **kwargs):\n",
    "            str_params = str(args) + str(kwargs)\n",
    "            if len(cache) <= size:\n",
    "                if str_params not in cache:\n",
    "                    print(\"New calc!\")\n",
    "                    cache[str_params] = f'{fn(*args, **kwargs)}'\n",
    "                    return cache[str_params]\n",
    "                else:\n",
    "                    return f'cached: {cache[str_params]}'\n",
    "            else:\n",
    "                return f'{fn(*args, **kwargs)}'\n",
    "        return wrapper\n",
    "    return cacher\n",
    "\n",
    "@sized_cacher(2)\n",
    "def tsum(a, b):\n",
    "    print()\n",
    "    return a + b"
   ]
  },
  {
   "cell_type": "code",
   "execution_count": null,
   "id": "0cf1fa4a",
   "metadata": {},
   "outputs": [],
   "source": [
    "assert(tsum(3, 2) == '5')\n",
    "assert(tsum(3, 2) == 'cached: 5')\n",
    "assert(tsum(2, 2) == '4')\n",
    "assert(tsum(2, 2) == 'cached: 4')\n",
    "assert(tsum(2, 2) == 'cached: 4')\n",
    "assert(tsum(4, 4) == '8')\n",
    "assert(tsum(4, 4) == '8')"
   ]
  },
  {
   "cell_type": "code",
   "execution_count": null,
   "id": "2a9d50f3",
   "metadata": {},
   "outputs": [],
   "source": [
    "# assert(tsum(2, 2) == 'cached: 4')"
   ]
  },
  {
   "cell_type": "code",
   "execution_count": null,
   "id": "a8d9e03b",
   "metadata": {},
   "outputs": [],
   "source": []
  },
  {
   "cell_type": "code",
   "execution_count": null,
   "id": "7e2f823c",
   "metadata": {},
   "outputs": [],
   "source": []
  },
  {
   "cell_type": "code",
   "execution_count": 1,
   "id": "f07ea5c9",
   "metadata": {},
   "outputs": [],
   "source": [
    "from IPython.display import Image"
   ]
  },
  {
   "cell_type": "code",
   "execution_count": null,
   "id": "700d3d5f",
   "metadata": {},
   "outputs": [],
   "source": [
    "import math\n",
    "import time\n",
    "import threading"
   ]
  },
  {
   "cell_type": "code",
   "execution_count": null,
   "id": "35df8204",
   "metadata": {},
   "outputs": [],
   "source": []
  },
  {
   "cell_type": "markdown",
   "id": "82e62a0d",
   "metadata": {},
   "source": [
    "## Параллельные вычисления в потоках"
   ]
  },
  {
   "cell_type": "code",
   "execution_count": null,
   "id": "679c7010",
   "metadata": {},
   "outputs": [],
   "source": [
    "def integrate(func, a, b, steps=1000):\n",
    "    step = (b - a) / steps\n",
    "\n",
    "    acc = 0\n",
    "    for i in range(steps):\n",
    "        acc += func(a + i * step) * step\n",
    "    return acc"
   ]
  },
  {
   "cell_type": "code",
   "execution_count": null,
   "id": "373078e1",
   "metadata": {},
   "outputs": [],
   "source": [
    "integrate(math.cos, 0.0, math.pi / 2, 10 ** 5)"
   ]
  },
  {
   "cell_type": "code",
   "execution_count": null,
   "id": "b903d6bd",
   "metadata": {},
   "outputs": [],
   "source": []
  },
  {
   "cell_type": "markdown",
   "id": "c6df2467",
   "metadata": {},
   "source": [
    "### Обмен через глобальную переменную"
   ]
  },
  {
   "cell_type": "code",
   "execution_count": null,
   "id": "1866c01e",
   "metadata": {},
   "outputs": [],
   "source": [
    "LEFT, RIGHT = 0.0, math.pi / 2"
   ]
  },
  {
   "cell_type": "code",
   "execution_count": null,
   "id": "f89d12b2",
   "metadata": {},
   "outputs": [],
   "source": []
  },
  {
   "cell_type": "code",
   "execution_count": null,
   "id": "3abdd974",
   "metadata": {},
   "outputs": [],
   "source": [
    "ACC1 = 0\n",
    "\n",
    "def integrate1(func, a, b, steps):\n",
    "    step = (b - a) / steps\n",
    "\n",
    "    acc = 0\n",
    "    for i in range(steps):\n",
    "        acc += func(a + i * step) * step\n",
    "    \n",
    "    global ACC1\n",
    "    # ACC1 += acc\n",
    "    \n",
    "    val = ACC1\n",
    "    time.sleep(0.00001)\n",
    "    ACC1 = val + acc"
   ]
  },
  {
   "cell_type": "code",
   "execution_count": null,
   "id": "666375ab",
   "metadata": {},
   "outputs": [],
   "source": [
    "def integrate_threaded1(jobs=4, steps=10 ** 5):\n",
    "    global ACC1\n",
    "    ACC1 = 0\n",
    "    \n",
    "    threads = []\n",
    "    for i in range(jobs):\n",
    "        interval = (RIGHT - LEFT) / jobs\n",
    "        a = LEFT + i * interval\n",
    "        b = LEFT + (i + 1) * interval\n",
    "        t = threading.Thread(target=integrate1, args=(math.cos, a, b, steps))\n",
    "        threads.append(t)\n",
    "\n",
    "    for t in threads:\n",
    "        t.start()\n",
    "\n",
    "    for t in threads:\n",
    "        t.join()"
   ]
  },
  {
   "cell_type": "code",
   "execution_count": null,
   "id": "b8bb0206",
   "metadata": {},
   "outputs": [],
   "source": [
    "integrate_threaded1()\n",
    "ACC1"
   ]
  },
  {
   "cell_type": "code",
   "execution_count": null,
   "id": "74ab1185",
   "metadata": {},
   "outputs": [],
   "source": []
  },
  {
   "cell_type": "markdown",
   "id": "e0126565",
   "metadata": {},
   "source": [
    "### Обмен через глобальную переменную с локами"
   ]
  },
  {
   "cell_type": "code",
   "execution_count": null,
   "id": "624f2682",
   "metadata": {},
   "outputs": [],
   "source": [
    "ACC2 = 0"
   ]
  },
  {
   "cell_type": "code",
   "execution_count": null,
   "id": "a8f7576f",
   "metadata": {},
   "outputs": [],
   "source": [
    "lock = threading.Lock()\n",
    "\n",
    "def integrate2(func, a, b, steps):\n",
    "    step = (b - a) / steps\n",
    "\n",
    "    acc = 0\n",
    "    for i in range(steps):\n",
    "        acc += func(a + i * step) * step\n",
    "    \n",
    "    global ACC2\n",
    "    lock.acquire()\n",
    "    \n",
    "    val = ACC2\n",
    "    time.sleep(0.00001)\n",
    "    ACC2 = val + acc\n",
    "    \n",
    "    lock.release()"
   ]
  },
  {
   "cell_type": "code",
   "execution_count": null,
   "id": "b6739e96",
   "metadata": {},
   "outputs": [],
   "source": [
    "def integrate_threaded2(jobs=4, steps=10 ** 5):\n",
    "    global ACC2\n",
    "    ACC2 = 0\n",
    "    \n",
    "    threads = []\n",
    "    for i in range(jobs):\n",
    "        interval = (RIGHT - LEFT) / jobs\n",
    "        a = LEFT + i * interval\n",
    "        b = LEFT + (i + 1) * interval\n",
    "        t = threading.Thread(target=integrate2, args=(math.cos, a, b, steps))\n",
    "        threads.append(t)\n",
    "\n",
    "    for t in threads:\n",
    "        t.start()\n",
    "\n",
    "    for t in threads:\n",
    "        t.join()"
   ]
  },
  {
   "cell_type": "code",
   "execution_count": null,
   "id": "6541c4ae",
   "metadata": {},
   "outputs": [],
   "source": [
    "integrate_threaded2()\n",
    "ACC2"
   ]
  },
  {
   "cell_type": "code",
   "execution_count": null,
   "id": "15d788f2",
   "metadata": {},
   "outputs": [],
   "source": []
  },
  {
   "cell_type": "markdown",
   "id": "9dc528b9",
   "metadata": {},
   "source": [
    "### Проблемы с локами"
   ]
  },
  {
   "cell_type": "markdown",
   "id": "20b858fc",
   "metadata": {},
   "source": [
    "### 1"
   ]
  },
  {
   "cell_type": "markdown",
   "id": "93c03975",
   "metadata": {},
   "source": [
    "```python\n",
    "from queue import Queue\n",
    "\n",
    "some_queue = Queue()\n",
    "some_lock = threading.Lock()\n",
    "```"
   ]
  },
  {
   "cell_type": "markdown",
   "id": "97aad028",
   "metadata": {},
   "source": [
    "```python\n",
    "class MessageReceiveError(Exception):\n",
    "    pass\n",
    "\n",
    "\n",
    "def read_messages(conn):\n",
    "    while True:\n",
    "        try:\n",
    "            some_lock.acquire()\n",
    "            message = conn.read()\n",
    "            some_queue.put(message)\n",
    "            some_lock.release()\n",
    "        except MessageReceiveError as err:\n",
    "            print(f'Cant read from conn due to {err}, skip it')\n",
    "```"
   ]
  },
  {
   "cell_type": "code",
   "execution_count": null,
   "id": "03765d31",
   "metadata": {},
   "outputs": [],
   "source": []
  },
  {
   "cell_type": "markdown",
   "id": "3a1e0d0b",
   "metadata": {},
   "source": [
    "### 2"
   ]
  },
  {
   "cell_type": "code",
   "execution_count": null,
   "id": "78d1835e",
   "metadata": {},
   "outputs": [],
   "source": [
    "lock1, lock2 = threading.Lock(), threading.Lock()"
   ]
  },
  {
   "cell_type": "code",
   "execution_count": null,
   "id": "da9d7a82",
   "metadata": {},
   "outputs": [],
   "source": [
    "def lock1_lock2():\n",
    "    with lock1:\n",
    "        print(f'{threading.current_thread().name} acquired lock1')\n",
    "        time.sleep(0.1)\n",
    "        with lock2:\n",
    "            print(f'{threading.current_thread().name} acquired lock2')"
   ]
  },
  {
   "cell_type": "code",
   "execution_count": null,
   "id": "10b4e6e3",
   "metadata": {},
   "outputs": [],
   "source": [
    "def lock2_lock1():\n",
    "    with lock2:\n",
    "        print(f'{threading.current_thread().name} acquired lock2')\n",
    "        time.sleep(0.1)\n",
    "        with lock1:\n",
    "            print(f'{threading.current_thread().name} acquired lock1')"
   ]
  },
  {
   "cell_type": "code",
   "execution_count": null,
   "id": "9bfb0d60",
   "metadata": {},
   "outputs": [],
   "source": [
    "t = threading.Thread(target=lock1_lock2)\n",
    "t.start()\n",
    "t.join()"
   ]
  },
  {
   "cell_type": "code",
   "execution_count": null,
   "id": "95fd8b24",
   "metadata": {},
   "outputs": [],
   "source": []
  },
  {
   "cell_type": "code",
   "execution_count": null,
   "id": "d74b46c0",
   "metadata": {},
   "outputs": [],
   "source": [
    "t1 = threading.Thread(target=lock1_lock2)\n",
    "t2 = threading.Thread(target=lock2_lock1)"
   ]
  },
  {
   "cell_type": "code",
   "execution_count": null,
   "id": "bd244b5b",
   "metadata": {},
   "outputs": [],
   "source": [
    "# t1.start()\n",
    "# t2.start()\n",
    "\n",
    "# t1.join()\n",
    "# t2.join()"
   ]
  },
  {
   "cell_type": "code",
   "execution_count": null,
   "id": "d5d99b12",
   "metadata": {},
   "outputs": [],
   "source": []
  },
  {
   "cell_type": "markdown",
   "id": "494bea10",
   "metadata": {},
   "source": [
    "### threading & performance"
   ]
  },
  {
   "cell_type": "code",
   "execution_count": null,
   "id": "c459046b",
   "metadata": {},
   "outputs": [],
   "source": [
    "ACC3 = 0\n",
    "\n",
    "def integrate3(func, a, b, steps):\n",
    "    step = (b - a) / steps\n",
    "\n",
    "    acc = 0\n",
    "    for i in range(steps):\n",
    "        acc += func(a + i * step) * step\n",
    "    \n",
    "    global ACC3\n",
    "    ACC3 += acc"
   ]
  },
  {
   "cell_type": "code",
   "execution_count": null,
   "id": "906b107c",
   "metadata": {},
   "outputs": [],
   "source": [
    "def integrate_threaded3(jobs=4, steps=10 ** 5):\n",
    "    global ACC3\n",
    "    ACC3 = 0\n",
    "    \n",
    "    threads = []\n",
    "    for i in range(jobs):\n",
    "        interval = (RIGHT - LEFT) / jobs\n",
    "        a = LEFT + i * interval\n",
    "        b = LEFT + (i + 1) * interval\n",
    "        t = threading.Thread(target=integrate3, args=(math.cos, a, b, steps))\n",
    "        threads.append(t)\n",
    "\n",
    "    for t in threads:\n",
    "        t.start()\n",
    "\n",
    "    for t in threads:\n",
    "        t.join()"
   ]
  },
  {
   "cell_type": "code",
   "execution_count": null,
   "id": "dd7903af",
   "metadata": {},
   "outputs": [],
   "source": [
    "integrate_threaded3()\n",
    "ACC3"
   ]
  },
  {
   "cell_type": "code",
   "execution_count": null,
   "id": "b1dcea48",
   "metadata": {},
   "outputs": [],
   "source": []
  },
  {
   "cell_type": "code",
   "execution_count": null,
   "id": "e263cdd5",
   "metadata": {},
   "outputs": [],
   "source": [
    "%%timeit\n",
    "integrate(math.cos, 0.0, math.pi / 2, steps=10 ** 5)"
   ]
  },
  {
   "cell_type": "code",
   "execution_count": null,
   "id": "1249df60",
   "metadata": {},
   "outputs": [],
   "source": [
    "%%timeit\n",
    "integrate_threaded3(jobs=4, steps=10 ** 5)"
   ]
  },
  {
   "cell_type": "code",
   "execution_count": null,
   "id": "9f8cb897",
   "metadata": {},
   "outputs": [],
   "source": [
    "%%timeit\n",
    "integrate_threaded3(jobs=10, steps=10 ** 5)"
   ]
  },
  {
   "cell_type": "code",
   "execution_count": null,
   "id": "7da29a24",
   "metadata": {},
   "outputs": [],
   "source": []
  },
  {
   "cell_type": "markdown",
   "id": "910360aa",
   "metadata": {},
   "source": [
    "## GIL"
   ]
  },
  {
   "cell_type": "code",
   "execution_count": 2,
   "id": "aa0158de",
   "metadata": {},
   "outputs": [
    {
     "data": {
      "image/png": "[encoded data removed]",
      "text/plain": [
       "<IPython.core.display.Image object>"
      ]
     },
     "execution_count": 2,
     "metadata": {},
     "output_type": "execute_result"
    }
   ],
   "source": [
    "Image('threading1.png')"
   ]
  },
  {
   "cell_type": "code",
   "execution_count": 3,
   "id": "ea738c4d",
   "metadata": {},
   "outputs": [
    {
     "data": {
      "image/png": "[encoded data removed]",
      "text/plain": [
       "<IPython.core.display.Image object>"
      ]
     },
     "execution_count": 3,
     "metadata": {},
     "output_type": "execute_result"
    }
   ],
   "source": [
    "Image('threading2.png')"
   ]
  },
  {
   "cell_type": "code",
   "execution_count": null,
   "id": "83807e28",
   "metadata": {},
   "outputs": [],
   "source": []
  },
  {
   "cell_type": "markdown",
   "id": "d6224d19",
   "metadata": {},
   "source": [
    "## CPU-bound vs IO-bound tasks"
   ]
  },
  {
   "cell_type": "markdown",
   "id": "92de7668",
   "metadata": {},
   "source": [
    "### Распараллеливаем IO bound операции"
   ]
  },
  {
   "cell_type": "code",
   "execution_count": null,
   "id": "381d9206",
   "metadata": {},
   "outputs": [],
   "source": [
    "import json\n",
    "import urllib.request"
   ]
  },
  {
   "cell_type": "code",
   "execution_count": null,
   "id": "dfd20979",
   "metadata": {},
   "outputs": [],
   "source": [
    "def make_query(url):\n",
    "    print(f'starting {url = }')\n",
    "    start = time.monotonic()\n",
    "    r = urllib.request.urlopen(url, timeout=5)\n",
    "    print(f'{url} finished in {time.monotonic() - start}')\n",
    "    return json.load(r)"
   ]
  },
  {
   "cell_type": "code",
   "execution_count": null,
   "id": "255f61e7",
   "metadata": {},
   "outputs": [],
   "source": [
    "make_query('https://jsonplaceholder.typicode.com/todos/1')"
   ]
  },
  {
   "cell_type": "code",
   "execution_count": null,
   "id": "5b10176f",
   "metadata": {},
   "outputs": [],
   "source": []
  },
  {
   "cell_type": "code",
   "execution_count": null,
   "id": "9f499518",
   "metadata": {},
   "outputs": [],
   "source": [
    "urls = (\n",
    "    'https://jsonplaceholder.typicode.com/todos/1',\n",
    "    'https://jsonplaceholder.typicode.com/todos/2',\n",
    "    'https://jsonplaceholder.typicode.com/todos/3',\n",
    ")"
   ]
  },
  {
   "cell_type": "code",
   "execution_count": null,
   "id": "fbbddd66",
   "metadata": {},
   "outputs": [],
   "source": []
  },
  {
   "cell_type": "code",
   "execution_count": null,
   "id": "4742332e",
   "metadata": {},
   "outputs": [],
   "source": [
    "start = time.monotonic()\n",
    "for url in urls:\n",
    "    make_query(url)\n",
    "print(f'\\nfinished all in {time.monotonic() - start}')"
   ]
  },
  {
   "cell_type": "code",
   "execution_count": null,
   "id": "3af924c5",
   "metadata": {},
   "outputs": [],
   "source": []
  },
  {
   "cell_type": "code",
   "execution_count": null,
   "id": "d871f777",
   "metadata": {},
   "outputs": [],
   "source": [
    "start = time.monotonic()\n",
    "\n",
    "threads = [\n",
    "    threading.Thread(target=make_query, args=(url,))\n",
    "    for url in urls\n",
    "]\n",
    "for t in threads:\n",
    "    t.start()\n",
    "for t in threads:\n",
    "    t.join()\n",
    "\n",
    "print(f'\\nfinished all in {time.monotonic() - start}')"
   ]
  },
  {
   "cell_type": "code",
   "execution_count": null,
   "id": "7b7a698b",
   "metadata": {},
   "outputs": [],
   "source": []
  },
  {
   "cell_type": "markdown",
   "id": "4e324524",
   "metadata": {},
   "source": [
    "## futures"
   ]
  },
  {
   "cell_type": "code",
   "execution_count": null,
   "id": "366bc52e",
   "metadata": {},
   "outputs": [],
   "source": [
    "from concurrent.futures import ThreadPoolExecutor, ProcessPoolExecutor"
   ]
  },
  {
   "cell_type": "code",
   "execution_count": null,
   "id": "e1936359",
   "metadata": {},
   "outputs": [],
   "source": []
  },
  {
   "cell_type": "code",
   "execution_count": null,
   "id": "63b0e93b",
   "metadata": {},
   "outputs": [],
   "source": [
    "start = time.monotonic()\n",
    "\n",
    "executor = ThreadPoolExecutor(max_workers=2)\n",
    "futures = [\n",
    "    executor.submit(make_query, url)\n",
    "    for url in urls\n",
    "]\n",
    "executor.shutdown()\n",
    "\n",
    "print(f'\\nfinished all in {time.monotonic() - start}')\n",
    "\n",
    "for f in futures:\n",
    "    print(f.result())"
   ]
  },
  {
   "cell_type": "code",
   "execution_count": null,
   "id": "0d6442e4",
   "metadata": {},
   "outputs": [],
   "source": []
  },
  {
   "cell_type": "code",
   "execution_count": null,
   "id": "9e7f2c3e",
   "metadata": {},
   "outputs": [],
   "source": [
    "start = time.monotonic()\n",
    "\n",
    "with ThreadPoolExecutor(max_workers=2) as executor:\n",
    "    futures = [\n",
    "        executor.submit(make_query, url)\n",
    "        for url in urls\n",
    "    ]\n",
    "\n",
    "print(f'\\nfinished all in {time.monotonic() - start}')\n",
    "\n",
    "for f in futures:\n",
    "    print(f.result())"
   ]
  },
  {
   "cell_type": "code",
   "execution_count": null,
   "id": "fa66d527",
   "metadata": {},
   "outputs": [],
   "source": []
  },
  {
   "cell_type": "code",
   "execution_count": null,
   "id": "1831b1cd",
   "metadata": {},
   "outputs": [],
   "source": []
  },
  {
   "cell_type": "markdown",
   "id": "6eada58f",
   "metadata": {},
   "source": [
    "### Распараллеливаем CPU-bound операции"
   ]
  },
  {
   "cell_type": "code",
   "execution_count": null,
   "id": "08fa9a73",
   "metadata": {},
   "outputs": [],
   "source": [
    "def integrate(func, a, b, steps=1000):\n",
    "    step = (b - a) / steps\n",
    "\n",
    "    acc = 0\n",
    "    for i in range(steps):\n",
    "        acc += func(a + i * step) * step\n",
    "    return acc"
   ]
  },
  {
   "cell_type": "code",
   "execution_count": null,
   "id": "55ceb93a",
   "metadata": {},
   "outputs": [],
   "source": [
    "def integrate_processes(func, a, b, steps=1000, jobs=4):\n",
    "    ..."
   ]
  },
  {
   "cell_type": "code",
   "execution_count": null,
   "id": "5889b535",
   "metadata": {},
   "outputs": [],
   "source": [
    "integrate_processes(math.cos, 0.0, math.pi / 2, jobs=4, steps=10 ** 5)"
   ]
  },
  {
   "cell_type": "code",
   "execution_count": null,
   "id": "bd0fcf80",
   "metadata": {},
   "outputs": [],
   "source": [
    "%%timeit\n",
    "integrate_processes(math.cos, 0.0, math.pi / 2, jobs=4, steps=10 ** 5)"
   ]
  },
  {
   "cell_type": "code",
   "execution_count": null,
   "id": "9bd35b1d",
   "metadata": {},
   "outputs": [],
   "source": []
  },
  {
   "cell_type": "code",
   "execution_count": null,
   "id": "0fdc7b2b",
   "metadata": {},
   "outputs": [],
   "source": []
  }
 ],
 "metadata": {
  "kernelspec": {
   "display_name": "Python 3 (ipykernel)",
   "language": "python",
   "name": "python3"
  },
  "language_info": {
   "codemirror_mode": {
    "name": "ipython",
    "version": 3
   },
   "file_extension": ".py",
   "mimetype": "text/x-python",
   "name": "python",
   "nbconvert_exporter": "python",
   "pygments_lexer": "ipython3",
   "version": "3.9.4"
  }
 },
 "nbformat": 4,
 "nbformat_minor": 5
}
